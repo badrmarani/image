{
 "cells": [
  {
   "cell_type": "code",
   "execution_count": 4,
   "id": "6c0c54f5",
   "metadata": {},
   "outputs": [],
   "source": [
    "import numpy as np\n",
    "from matplotlib.pyplot import *\n",
    "import cv2"
   ]
  },
  {
   "cell_type": "code",
   "execution_count": 23,
   "id": "41aa6ecc",
   "metadata": {},
   "outputs": [
    {
     "data": {
      "text/plain": [
       "True"
      ]
     },
     "execution_count": 23,
     "metadata": {},
     "output_type": "execute_result"
    }
   ],
   "source": [
    "image = imread ('../data/imgs/houses.jpg')\n",
    "\n",
    "x, y, z = cv2.split (image)\n",
    "\n",
    "\n",
    "x = x + np.random.normal (0, 50, np.shape (x))\n",
    "y = y + np.random.normal (0, 50, np.shape (y))\n",
    "z = z + np.random.normal (0, 50, np.shape (z))\n",
    "\n",
    "\n",
    "cv2.imwrite ('test.jpg', cv2.merge ([z, y, x]))"
   ]
  }
 ],
 "metadata": {
  "kernelspec": {
   "display_name": "Python 3 (ipykernel)",
   "language": "python",
   "name": "python3"
  },
  "language_info": {
   "codemirror_mode": {
    "name": "ipython",
    "version": 3
   },
   "file_extension": ".py",
   "mimetype": "text/x-python",
   "name": "python",
   "nbconvert_exporter": "python",
   "pygments_lexer": "ipython3",
   "version": "3.9.5"
  }
 },
 "nbformat": 4,
 "nbformat_minor": 5
}
